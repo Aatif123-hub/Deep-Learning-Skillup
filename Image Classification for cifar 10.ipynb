{
 "cells": [
  {
   "cell_type": "code",
   "execution_count": 25,
   "id": "0e0a73ee",
   "metadata": {
    "id": "0e0a73ee"
   },
   "outputs": [],
   "source": [
    "import tensorflow as tf\n",
    "from tensorflow import keras\n",
    "import matplotlib.pyplot as plt\n",
    "import numpy as np"
   ]
  },
  {
   "cell_type": "code",
   "execution_count": 26,
   "id": "d3c3ec6e",
   "metadata": {
    "colab": {
     "base_uri": "https://localhost:8080/"
    },
    "id": "d3c3ec6e",
    "outputId": "222611b4-9a1b-49e3-8a8b-62f4f2bad26a"
   },
   "outputs": [
    {
     "data": {
      "text/plain": [
       "[PhysicalDevice(name='/physical_device:CPU:0', device_type='CPU'),\n",
       " PhysicalDevice(name='/physical_device:GPU:0', device_type='GPU')]"
      ]
     },
     "execution_count": 26,
     "metadata": {},
     "output_type": "execute_result"
    }
   ],
   "source": [
    "tf.config.experimental.list_physical_devices()"
   ]
  },
  {
   "cell_type": "code",
   "execution_count": null,
   "id": "ccdfc6c2",
   "metadata": {
    "id": "ccdfc6c2"
   },
   "outputs": [],
   "source": []
  },
  {
   "cell_type": "code",
   "execution_count": 32,
   "id": "884526e2",
   "metadata": {
    "colab": {
     "base_uri": "https://localhost:8080/"
    },
    "id": "884526e2",
    "outputId": "f5f5a69c-c2b7-4a2c-d18e-3de35ea37c58"
   },
   "outputs": [
    {
     "data": {
      "text/plain": [
       "True"
      ]
     },
     "execution_count": 32,
     "metadata": {},
     "output_type": "execute_result"
    }
   ],
   "source": [
    "tf.test.is_built_with_cuda()"
   ]
  },
  {
   "cell_type": "code",
   "execution_count": 33,
   "id": "9b4af2df",
   "metadata": {
    "id": "9b4af2df"
   },
   "outputs": [],
   "source": [
    "(x_train,y_train),(x_test,y_test)=tf.keras.datasets.cifar10.load_data()"
   ]
  },
  {
   "cell_type": "code",
   "execution_count": 34,
   "id": "e091cdf5",
   "metadata": {
    "colab": {
     "base_uri": "https://localhost:8080/"
    },
    "id": "e091cdf5",
    "outputId": "6c648058-a435-4529-c201-33f76e484ce3"
   },
   "outputs": [
    {
     "data": {
      "text/plain": [
       "(50000, 32, 32, 3)"
      ]
     },
     "execution_count": 34,
     "metadata": {},
     "output_type": "execute_result"
    }
   ],
   "source": [
    "x_train.shape"
   ]
  },
  {
   "cell_type": "code",
   "execution_count": null,
   "id": "d10ae164",
   "metadata": {
    "id": "d10ae164"
   },
   "outputs": [],
   "source": [
    "x_train[0].shape\n"
   ]
  },
  {
   "cell_type": "code",
   "execution_count": 35,
   "id": "e5d937ad",
   "metadata": {
    "colab": {
     "base_uri": "https://localhost:8080/"
    },
    "id": "e5d937ad",
    "outputId": "0aa10155-ac11-431d-84a2-0d2228aceb1a"
   },
   "outputs": [
    {
     "data": {
      "text/plain": [
       "array([[6],\n",
       "       [9],\n",
       "       [9],\n",
       "       [4],\n",
       "       [1]], dtype=uint8)"
      ]
     },
     "execution_count": 35,
     "metadata": {},
     "output_type": "execute_result"
    }
   ],
   "source": [
    "y_train[0:5]"
   ]
  },
  {
   "cell_type": "code",
   "execution_count": 36,
   "id": "fa12557f",
   "metadata": {
    "id": "fa12557f"
   },
   "outputs": [],
   "source": [
    "def plot_sample(index):\n",
    "    plt.figure(figsize=(10,1))\n",
    "    plt.imshow(x_train[index])"
   ]
  },
  {
   "cell_type": "code",
   "execution_count": 37,
   "id": "45a4146d",
   "metadata": {
    "id": "45a4146d"
   },
   "outputs": [],
   "source": [
    "classes = [\"airplane\",\"automobile\",\"bird\",\"cat\",\"deer\",\"dog\",\"frog\",\"horse\",\"ship\",\"truck\"]"
   ]
  },
  {
   "cell_type": "code",
   "execution_count": 38,
   "id": "0b872659",
   "metadata": {
    "colab": {
     "base_uri": "https://localhost:8080/",
     "height": 142
    },
    "id": "0b872659",
    "outputId": "4b68c03f-1588-4c94-b7dd-510ff6d82533"
   },
   "outputs": [
    {
     "data": {
      "image/png": "[encoded data removed]",
      "text/plain": [
       "<Figure size 1000x100 with 1 Axes>"
      ]
     },
     "metadata": {},
     "output_type": "display_data"
    }
   ],
   "source": [
    "plot_sample(0)"
   ]
  },
  {
   "cell_type": "code",
   "execution_count": 39,
   "id": "36489c25",
   "metadata": {
    "colab": {
     "base_uri": "https://localhost:8080/",
     "height": 142
    },
    "id": "36489c25",
    "outputId": "9bef85bc-dbc3-40ff-fc16-f50d3e21f99a"
   },
   "outputs": [
    {
     "data": {
      "image/png": "[encoded data removed]",
      "text/plain": [
       "<Figure size 1000x100 with 1 Axes>"
      ]
     },
     "metadata": {},
     "output_type": "display_data"
    }
   ],
   "source": [
    "plot_sample(2)"
   ]
  },
  {
   "cell_type": "code",
   "execution_count": 40,
   "id": "f10914f1",
   "metadata": {
    "colab": {
     "base_uri": "https://localhost:8080/"
    },
    "id": "f10914f1",
    "outputId": "f5f37b11-357d-4eb9-b46a-b6b3fa0f3a12"
   },
   "outputs": [
    {
     "data": {
      "text/plain": [
       "array([9], dtype=uint8)"
      ]
     },
     "execution_count": 40,
     "metadata": {},
     "output_type": "execute_result"
    }
   ],
   "source": [
    "y_train[2]"
   ]
  },
  {
   "cell_type": "code",
   "execution_count": 41,
   "id": "39659af9",
   "metadata": {
    "colab": {
     "base_uri": "https://localhost:8080/",
     "height": 35
    },
    "id": "39659af9",
    "outputId": "3a49d688-03c4-497a-e682-155c85be49b9"
   },
   "outputs": [
    {
     "data": {
      "application/vnd.google.colaboratory.intrinsic+json": {
       "type": "string"
      },
      "text/plain": [
       "'truck'"
      ]
     },
     "execution_count": 41,
     "metadata": {},
     "output_type": "execute_result"
    }
   ],
   "source": [
    "classes[y_train[2][0]]"
   ]
  },
  {
   "cell_type": "markdown",
   "id": "b4561337",
   "metadata": {
    "id": "b4561337"
   },
   "source": [
    "### scaling the images"
   ]
  },
  {
   "cell_type": "markdown",
   "id": "f48f64a9",
   "metadata": {
    "id": "f48f64a9"
   },
   "source": [
    "#### normalising the values to make it work for deep learning"
   ]
  },
  {
   "cell_type": "code",
   "execution_count": 42,
   "id": "14568151",
   "metadata": {
    "id": "14568151"
   },
   "outputs": [],
   "source": [
    "x_train_scaled = x_train/255\n",
    "x_test_scaled = x_test/255"
   ]
  },
  {
   "cell_type": "code",
   "execution_count": 43,
   "id": "0f7d8f10",
   "metadata": {
    "colab": {
     "base_uri": "https://localhost:8080/"
    },
    "id": "0f7d8f10",
    "outputId": "ca4925d4-3b25-43bb-8300-fd2726d47015"
   },
   "outputs": [
    {
     "data": {
      "text/plain": [
       "(50000, 32, 32, 3)"
      ]
     },
     "execution_count": 43,
     "metadata": {},
     "output_type": "execute_result"
    }
   ],
   "source": [
    "x_train_scaled.shape"
   ]
  },
  {
   "cell_type": "markdown",
   "id": "c1ec476c",
   "metadata": {
    "id": "c1ec476c"
   },
   "source": [
    "#### Applying one hot encoding because deep learning models does not work with categorical data"
   ]
  },
  {
   "cell_type": "code",
   "execution_count": 44,
   "id": "190ad741",
   "metadata": {
    "colab": {
     "base_uri": "https://localhost:8080/"
    },
    "id": "190ad741",
    "outputId": "f339e30e-2b15-431a-ab84-5fed63015580"
   },
   "outputs": [
    {
     "data": {
      "text/plain": [
       "array([[6],\n",
       "       [9],\n",
       "       [9],\n",
       "       [4],\n",
       "       [1]], dtype=uint8)"
      ]
     },
     "execution_count": 44,
     "metadata": {},
     "output_type": "execute_result"
    }
   ],
   "source": [
    "y_train[:5]"
   ]
  },
  {
   "cell_type": "markdown",
   "id": "b06794ba",
   "metadata": {
    "id": "b06794ba"
   },
   "source": [
    "#### There are 10 classes in cifar 10"
   ]
  },
  {
   "cell_type": "code",
   "execution_count": 45,
   "id": "00cef401",
   "metadata": {
    "id": "00cef401"
   },
   "outputs": [],
   "source": [
    "y_train_categorical = keras.utils.to_categorical(\n",
    "    y_train, num_classes=10, dtype='float32'\n",
    ")\n",
    "y_test_categorical = keras.utils.to_categorical(\n",
    "    y_test, num_classes=10, dtype='float32'\n",
    ")"
   ]
  },
  {
   "cell_type": "markdown",
   "id": "33d0088b",
   "metadata": {
    "id": "33d0088b"
   },
   "source": [
    "#### look at the y_train cell. you can see the values printed here changed to 0 and 1"
   ]
  },
  {
   "cell_type": "code",
   "execution_count": 46,
   "id": "062b3fcf",
   "metadata": {
    "colab": {
     "base_uri": "https://localhost:8080/"
    },
    "id": "062b3fcf",
    "outputId": "95e1c382-e8a1-433c-df87-2af0aab3a67b"
   },
   "outputs": [
    {
     "data": {
      "text/plain": [
       "array([[0., 0., 0., 0., 0., 0., 1., 0., 0., 0.],\n",
       "       [0., 0., 0., 0., 0., 0., 0., 0., 0., 1.],\n",
       "       [0., 0., 0., 0., 0., 0., 0., 0., 0., 1.],\n",
       "       [0., 0., 0., 0., 1., 0., 0., 0., 0., 0.],\n",
       "       [0., 1., 0., 0., 0., 0., 0., 0., 0., 0.]], dtype=float32)"
      ]
     },
     "execution_count": 46,
     "metadata": {},
     "output_type": "execute_result"
    }
   ],
   "source": [
    "y_train_categorical[0:5]"
   ]
  },
  {
   "cell_type": "markdown",
   "id": "ee006f5d",
   "metadata": {
    "id": "ee006f5d"
   },
   "source": [
    "#### model building. Flatten the data so that the model can read"
   ]
  },
  {
   "cell_type": "markdown",
   "id": "39b795ac",
   "metadata": {
    "id": "39b795ac"
   },
   "source": [
    "#### flattening is used to convert multidimensional array into one dimension"
   ]
  },
  {
   "cell_type": "code",
   "execution_count": 47,
   "id": "a30a86a3",
   "metadata": {
    "colab": {
     "base_uri": "https://localhost:8080/"
    },
    "id": "a30a86a3",
    "outputId": "22c4f0e5-d11c-452c-9b0c-b5320e9c185f"
   },
   "outputs": [
    {
     "data": {
      "text/plain": [
       "3072"
      ]
     },
     "execution_count": 47,
     "metadata": {},
     "output_type": "execute_result"
    }
   ],
   "source": [
    "32*32*3"
   ]
  },
  {
   "cell_type": "code",
   "execution_count": 20,
   "id": "78ede0eb",
   "metadata": {
    "colab": {
     "base_uri": "https://localhost:8080/"
    },
    "id": "78ede0eb",
    "outputId": "c7d17529-be2b-49ab-cb69-ea5378418af9"
   },
   "outputs": [
    {
     "name": "stdout",
     "output_type": "stream",
     "text": [
      "Epoch 1/50\n",
      "1563/1563 [==============================] - 10s 5ms/step - loss: 1.8167 - accuracy: 0.3548\n",
      "Epoch 2/50\n",
      "1563/1563 [==============================] - 8s 5ms/step - loss: 1.6263 - accuracy: 0.4267\n",
      "Epoch 3/50\n",
      "1563/1563 [==============================] - 8s 5ms/step - loss: 1.5430 - accuracy: 0.4550\n",
      "Epoch 4/50\n",
      "1563/1563 [==============================] - 8s 5ms/step - loss: 1.4836 - accuracy: 0.4764\n",
      "Epoch 5/50\n",
      "1563/1563 [==============================] - 7s 5ms/step - loss: 1.4349 - accuracy: 0.4953\n",
      "Epoch 6/50\n",
      "1563/1563 [==============================] - 9s 6ms/step - loss: 1.3887 - accuracy: 0.5118\n",
      "Epoch 7/50\n",
      "1563/1563 [==============================] - 8s 5ms/step - loss: 1.3544 - accuracy: 0.5237\n",
      "Epoch 8/50\n",
      "1563/1563 [==============================] - 8s 5ms/step - loss: 1.3190 - accuracy: 0.5384\n",
      "Epoch 9/50\n",
      "1563/1563 [==============================] - 8s 5ms/step - loss: 1.2830 - accuracy: 0.5486\n",
      "Epoch 10/50\n",
      "1563/1563 [==============================] - 7s 5ms/step - loss: 1.2537 - accuracy: 0.5607\n",
      "Epoch 11/50\n",
      "1563/1563 [==============================] - 8s 5ms/step - loss: 1.2249 - accuracy: 0.5701\n",
      "Epoch 12/50\n",
      "1563/1563 [==============================] - 8s 5ms/step - loss: 1.1963 - accuracy: 0.5797\n",
      "Epoch 13/50\n",
      "1563/1563 [==============================] - 8s 5ms/step - loss: 1.1674 - accuracy: 0.5912\n",
      "Epoch 14/50\n",
      "1563/1563 [==============================] - 8s 5ms/step - loss: 1.1434 - accuracy: 0.6022\n",
      "Epoch 15/50\n",
      "1563/1563 [==============================] - 7s 5ms/step - loss: 1.1148 - accuracy: 0.6118\n",
      "Epoch 16/50\n",
      "1563/1563 [==============================] - 8s 5ms/step - loss: 1.0892 - accuracy: 0.6201\n",
      "Epoch 17/50\n",
      "1563/1563 [==============================] - 8s 5ms/step - loss: 1.0630 - accuracy: 0.6283\n",
      "Epoch 18/50\n",
      "1563/1563 [==============================] - 8s 5ms/step - loss: 1.0359 - accuracy: 0.6380\n",
      "Epoch 19/50\n",
      "1563/1563 [==============================] - 8s 5ms/step - loss: 1.0121 - accuracy: 0.6483\n",
      "Epoch 20/50\n",
      "1563/1563 [==============================] - 7s 5ms/step - loss: 0.9866 - accuracy: 0.6578\n",
      "Epoch 21/50\n",
      "1563/1563 [==============================] - 8s 5ms/step - loss: 0.9592 - accuracy: 0.6694\n",
      "Epoch 22/50\n",
      "1563/1563 [==============================] - 7s 5ms/step - loss: 0.9342 - accuracy: 0.6749\n",
      "Epoch 23/50\n",
      "1563/1563 [==============================] - 8s 5ms/step - loss: 0.9092 - accuracy: 0.6860\n",
      "Epoch 24/50\n",
      "1563/1563 [==============================] - 8s 5ms/step - loss: 0.8842 - accuracy: 0.6945\n",
      "Epoch 25/50\n",
      "1563/1563 [==============================] - 8s 5ms/step - loss: 0.8574 - accuracy: 0.7037\n",
      "Epoch 26/50\n",
      "1563/1563 [==============================] - 8s 5ms/step - loss: 0.8358 - accuracy: 0.7103\n",
      "Epoch 27/50\n",
      "1563/1563 [==============================] - 7s 5ms/step - loss: 0.8076 - accuracy: 0.7232\n",
      "Epoch 28/50\n",
      "1563/1563 [==============================] - 8s 5ms/step - loss: 0.7853 - accuracy: 0.7285\n",
      "Epoch 29/50\n",
      "1563/1563 [==============================] - 7s 5ms/step - loss: 0.7599 - accuracy: 0.7396\n",
      "Epoch 30/50\n",
      "1563/1563 [==============================] - 8s 5ms/step - loss: 0.7327 - accuracy: 0.7507\n",
      "Epoch 31/50\n",
      "1563/1563 [==============================] - 8s 5ms/step - loss: 0.7084 - accuracy: 0.7593\n",
      "Epoch 32/50\n",
      "1563/1563 [==============================] - 8s 5ms/step - loss: 0.6794 - accuracy: 0.7686\n",
      "Epoch 33/50\n",
      "1563/1563 [==============================] - 8s 5ms/step - loss: 0.6575 - accuracy: 0.7786\n",
      "Epoch 34/50\n",
      "1563/1563 [==============================] - 7s 5ms/step - loss: 0.6347 - accuracy: 0.7862\n",
      "Epoch 35/50\n",
      "1563/1563 [==============================] - 8s 5ms/step - loss: 0.6125 - accuracy: 0.7951\n",
      "Epoch 36/50\n",
      "1563/1563 [==============================] - 8s 5ms/step - loss: 0.5875 - accuracy: 0.8046\n",
      "Epoch 37/50\n",
      "1563/1563 [==============================] - 8s 5ms/step - loss: 0.5616 - accuracy: 0.8130\n",
      "Epoch 38/50\n",
      "1563/1563 [==============================] - 8s 5ms/step - loss: 0.5423 - accuracy: 0.8204\n",
      "Epoch 39/50\n",
      "1563/1563 [==============================] - 8s 5ms/step - loss: 0.5176 - accuracy: 0.8288\n",
      "Epoch 40/50\n",
      "1563/1563 [==============================] - 8s 5ms/step - loss: 0.4947 - accuracy: 0.8381\n",
      "Epoch 41/50\n",
      "1563/1563 [==============================] - 8s 5ms/step - loss: 0.4741 - accuracy: 0.8458\n",
      "Epoch 42/50\n",
      "1563/1563 [==============================] - 8s 5ms/step - loss: 0.4527 - accuracy: 0.8534\n",
      "Epoch 43/50\n",
      "1563/1563 [==============================] - 8s 5ms/step - loss: 0.4305 - accuracy: 0.8624\n",
      "Epoch 44/50\n",
      "1563/1563 [==============================] - 7s 5ms/step - loss: 0.4092 - accuracy: 0.8691\n",
      "Epoch 45/50\n",
      "1563/1563 [==============================] - 8s 5ms/step - loss: 0.3905 - accuracy: 0.8764\n",
      "Epoch 46/50\n",
      "1563/1563 [==============================] - 8s 5ms/step - loss: 0.3657 - accuracy: 0.8860\n",
      "Epoch 47/50\n",
      "1563/1563 [==============================] - 8s 5ms/step - loss: 0.3513 - accuracy: 0.8915\n",
      "Epoch 48/50\n",
      "1563/1563 [==============================] - 8s 5ms/step - loss: 0.3311 - accuracy: 0.8984\n",
      "Epoch 49/50\n",
      "1563/1563 [==============================] - 7s 5ms/step - loss: 0.3147 - accuracy: 0.9043\n",
      "Epoch 50/50\n",
      "1563/1563 [==============================] - 8s 5ms/step - loss: 0.2974 - accuracy: 0.9108\n"
     ]
    },
    {
     "data": {
      "text/plain": [
       "<keras.src.callbacks.History at 0x7ee4b71a0850>"
      ]
     },
     "execution_count": 20,
     "metadata": {},
     "output_type": "execute_result"
    }
   ],
   "source": [
    "model=keras.Sequential([\n",
    "    keras.layers.Flatten(input_shape=(32,32,3)),\n",
    "    # creating hidden layer somewhat equal to the input\n",
    "    keras.layers.Dense(3000,activation='relu'),\n",
    "    keras.layers.Dense(1000,activation='relu'),\n",
    "    # 10 neurons because of 10 classes in cifar 10\n",
    "    keras.layers.Dense(10,activation='sigmoid')\n",
    "])\n",
    "model.compile(optimizer='SGD',\n",
    "             loss='categorical_crossentropy',\n",
    "             metrics=['accuracy'])\n",
    "model.fit(x_train_scaled,y_train_categorical,epochs=50)"
   ]
  },
  {
   "cell_type": "code",
   "execution_count": 21,
   "id": "20f34c66",
   "metadata": {
    "colab": {
     "base_uri": "https://localhost:8080/"
    },
    "id": "20f34c66",
    "outputId": "391ed2d8-d63e-419b-deb6-81b1c5cdbf41"
   },
   "outputs": [
    {
     "name": "stdout",
     "output_type": "stream",
     "text": [
      "313/313 [==============================] - 1s 3ms/step - loss: 1.5309 - accuracy: 0.5666\n"
     ]
    },
    {
     "data": {
      "text/plain": [
       "[1.5309354066848755, 0.5666000247001648]"
      ]
     },
     "execution_count": 21,
     "metadata": {},
     "output_type": "execute_result"
    }
   ],
   "source": [
    "# prompt:\n",
    "\n",
    "model.evaluate(x_test_scaled,y_test_categorical)\n"
   ]
  },
  {
   "cell_type": "code",
   "execution_count": 48,
   "id": "f1e4c6d9",
   "metadata": {
    "id": "f1e4c6d9"
   },
   "outputs": [],
   "source": [
    "def get_model():\n",
    "    model = keras.Sequential([\n",
    "            keras.layers.Flatten(input_shape=(32,32,3)),\n",
    "            keras.layers.Dense(3000, activation='relu'),\n",
    "            keras.layers.Dense(1000, activation='relu'),\n",
    "            keras.layers.Dense(10, activation='sigmoid')\n",
    "        ])\n",
    "\n",
    "    model.compile(optimizer='SGD',\n",
    "                  loss='categorical_crossentropy',\n",
    "                  metrics=['accuracy'])\n",
    "    return model"
   ]
  },
  {
   "cell_type": "code",
   "execution_count": 50,
   "id": "7971ad1c",
   "metadata": {
    "colab": {
     "base_uri": "https://localhost:8080/"
    },
    "id": "7971ad1c",
    "outputId": "77fa274e-5474-4bc8-9936-60893852c3dc"
   },
   "outputs": [
    {
     "name": "stdout",
     "output_type": "stream",
     "text": [
      "1563/1563 [==============================] - 145s 92ms/step - loss: 1.8105 - accuracy: 0.3561\n",
      "3min 27s ± 0 ns per loop (mean ± std. dev. of 1 run, 1 loop each)\n"
     ]
    }
   ],
   "source": [
    "%%timeit -n1 -r1\n",
    "with tf.device('/CPU:0'):\n",
    "    cpu_model = get_model()\n",
    "    cpu_model.fit(x_train_scaled, y_train_categorical, epochs=1)"
   ]
  },
  {
   "cell_type": "code",
   "execution_count": 52,
   "id": "a4221c86",
   "metadata": {
    "colab": {
     "base_uri": "https://localhost:8080/"
    },
    "id": "a4221c86",
    "outputId": "7e1ddd04-d67e-44fd-826e-e01a1badb735"
   },
   "outputs": [
    {
     "name": "stdout",
     "output_type": "stream",
     "text": [
      "1563/1563 [==============================] - 9s 5ms/step - loss: 1.8116 - accuracy: 0.3535\n",
      "12.4 s ± 0 ns per loop (mean ± std. dev. of 1 run, 1 loop each)\n"
     ]
    }
   ],
   "source": [
    "%%timeit -n1 -r1\n",
    "with tf.device('/GPU:0'):\n",
    "    cpu_model = get_model()\n",
    "    cpu_model.fit(x_train_scaled, y_train_categorical, epochs=1)"
   ]
  },
  {
   "cell_type": "code",
   "execution_count": null,
   "id": "23c7fe9d",
   "metadata": {
    "id": "23c7fe9d"
   },
   "outputs": [],
   "source": []
  },
  {
   "cell_type": "code",
   "execution_count": null,
   "id": "088df312",
   "metadata": {
    "id": "088df312"
   },
   "outputs": [],
   "source": []
  }
 ],
 "metadata": {
  "accelerator": "GPU",
  "colab": {
   "gpuType": "T4",
   "provenance": []
  },
  "kernelspec": {
   "display_name": "Python 3 (ipykernel)",
   "language": "python",
   "name": "python3"
  },
  "language_info": {
   "codemirror_mode": {
    "name": "ipython",
    "version": 3
   },
   "file_extension": ".py",
   "mimetype": "text/x-python",
   "name": "python",
   "nbconvert_exporter": "python",
   "pygments_lexer": "ipython3",
   "version": "3.11.5"
  }
 },
 "nbformat": 4,
 "nbformat_minor": 5
}
